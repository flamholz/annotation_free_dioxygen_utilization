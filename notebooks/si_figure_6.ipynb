{
 "cells": [
  {
   "cell_type": "code",
   "execution_count": 2,
   "metadata": {},
   "outputs": [
    {
     "name": "stderr",
     "output_type": "stream",
     "text": [
      "/home/prichter/Documents/aerobot/aerobot/contigs.py:118: SyntaxWarning: invalid escape sequence '\\d'\n",
      "  get_contig_id = lambda header : re.search(f'({genome_id}_\\d+)_\\d+', header).group(1)\n",
      "/home/prichter/Documents/aerobot/aerobot/contigs.py:123: SyntaxWarning: invalid escape sequence '\\d'\n",
      "  get_contig_id = lambda header : re.search(f'({genome_id})_\\d+', header).group(1)\n",
      "/home/prichter/Documents/aerobot/aerobot/contigs.py:140: SyntaxWarning: invalid escape sequence '\\d'\n",
      "  k = int(re.search('\\d', feature_type).group(0)) # Get the size of the k-mers for the feature type.\n"
     ]
    }
   ],
   "source": [
    "import matplotlib.pyplot as plt\n",
    "from aerobot.io import RESULTS_PATH, load_results_dict, DATA_PATH\n",
    "from aerobot.plot import plot_configure_mpl, PRETTY_NAMES\n",
    "from aerobot.contigs import KMER_FEATURE_TYPES\n",
    "import pandas as pd\n",
    "from matplotlib.gridspec import GridSpec\n",
    "from scipy.stats import linregress\n",
    "import numpy as np\n",
    "import os\n",
    "from typing import List\n",
    "import glob \n",
    "\n",
    "%load_ext autoreload \n",
    "%autoreload 2 \n",
    "\n",
    "plot_configure_mpl(n_colors=6) # Want at least one color for each genome have results for. "
   ]
  },
  {
   "cell_type": "code",
   "execution_count": 3,
   "metadata": {},
   "outputs": [],
   "source": [
    "CONTIGS_PATH = os.path.join(DATA_PATH, 'contigs')\n",
    "\n",
    "# These are the feature types which I currently have results for. \n",
    "feature_types = ['nt_1mer', 'nt_2mer', 'nt_3mer', 'aa_1mer', 'aa_2mer', 'aa_3mer']"
   ]
  },
  {
   "cell_type": "raw",
   "metadata": {},
   "source": [
    "# Shell script for running multiple contig-based predictions on HPC.\n",
    "\n",
    "import subprocess \n",
    "from aerobot.contigs import KMER_FEATURE_TYPES\n",
    "from aerobot.io import SCRIPTS_PATH\n",
    "import os\n",
    "\n",
    "SCRIPT = os.path.join(SCRIPTS_PATH, 'predict-contigs.py')\n",
    "# Select a few different genome IDs... perhaps five from each category. \n",
    "genome_ids = ['GCA_000093085', 'GCF_000875755', 'GCF_001295365'] # Facultative\n",
    "genome_ids += ['GCF_000237085', 'GCF_016028255', 'GCF_000016385'] # Anaerobe\n",
    "genome_ids += ['GCF_003431975', 'GCF_000022525', 'GCF_000973625'] # Aerobe \n",
    "\n",
    "genome_ids = ' '.join(genome_ids) # Format as a string to be passed into the script. \n",
    "\n",
    "for feature_type in KMER_FEATURE_TYPES:\n",
    "    \n",
    "    cmd = f'python {SCRIPT} {genome_ids} --feature-type {feature_type}'\n",
    "    subprocess.run(f'sbatch --time 24:00:00 --mem 64GB --wrap {cmd}', shell=True, check=True)\n",
    "    "
   ]
  },
  {
   "cell_type": "markdown",
   "metadata": {},
   "source": [
    "# SI Figure 6\n",
    "\n",
    "This figure shows the results of applying the trained classifier to normalized contig data.\n",
    "\n",
    "How would be best to show this... Probably want to plot one genome at a time, or perhaps multiple genomes on the same plot? And then fit a regression line through the data points. I expect the trend will be the same across correctly-predicted genomes. As a side note, it is probably best to select for genomes where the end prediction of the model was correct. "
   ]
  },
  {
   "cell_type": "code",
   "execution_count": 4,
   "metadata": {},
   "outputs": [],
   "source": [
    "# Get the IDs of the genomes which have been analyzed. \n",
    "# These can be extracted from the names of the files in the RESULTS_PATH directory. \n",
    "genome_ids = []\n",
    "for path in glob.glob(os.path.join(RESULTS_PATH, 'predict_contigs*')):\n",
    "    filename = os.path.basename(path)\n",
    "    filename = filename.replace('predict_contigs_', '')\n",
    "    filename = '_'.join(filename.split('_')[:2])\n",
    "    genome_ids.append(filename)\n",
    "\n",
    "genome_ids = set(genome_ids)"
   ]
  },
  {
   "cell_type": "code",
   "execution_count": 5,
   "metadata": {},
   "outputs": [
    {
     "name": "stdout",
     "output_type": "stream",
     "text": [
      "2 genomes used for feature type nt_1mer.\n",
      "0 genomes used for feature type nt_2mer.\n",
      "0 genomes used for feature type nt_3mer.\n",
      "0 genomes used for feature type aa_1mer.\n",
      "0 genomes used for feature type aa_2mer.\n",
      "0 genomes used for feature type aa_3mer.\n"
     ]
    }
   ],
   "source": [
    "# Load the correct labels for each genome. \n",
    "genome_labels = pd.read_csv(os.path.join(CONTIGS_PATH, 'genomes.csv'), index_col=0).set_index('genome_id').to_dict(orient='dict')\n",
    "genome_labels = genome_labels['label']\n",
    "\n",
    "# Organize the contigs results into DataFrames for plotting. \n",
    "contigs_results = dict() \n",
    "for feature_type in feature_types:\n",
    "    # contigs_results[feature_type] = load_results_dict(os.path.join(RESULTS_PATH, ''))\n",
    "    contigs_results[feature_type] = dict() # I think it would be good to have another layer of dictionaries for genome IDs. \n",
    "    for genome_id in genome_ids:\n",
    "        predictions_df = pd.read_csv(os.path.join(RESULTS_PATH, f'predict_contigs_{genome_id}_{feature_type}.csv'))\n",
    "        predictions_df['correct'] = predictions_df.prediction.values == genome_labels[genome_id] # Create a new column indicating if the prediction matches the label. \n",
    "        \n",
    "        y_vals = predictions_df[['contig_size', 'correct']].groupby('contig_size').mean().values.ravel()\n",
    "        x_vals = np.unique(predictions_df.contig_size.values)\n",
    "\n",
    "        # Is the whole genome prediction correct?\n",
    "        if y_vals[-1] == 1: # The last value in the y-value array indicates if model prediction on the entire genome is correct. \n",
    "            y_vals, x_vals = y_vals[:-1], x_vals[:-1] # The length of the complete genome is much larger than any of the contigs, so plots look better if it's removed.  \n",
    "            contigs_results[feature_type][genome_id] = (x_vals, y_vals)\n",
    "        else:\n",
    "            pass\n",
    "            # print(f'Genome {genome_id} is excluded for feature type {feature_type}, as model prediction on the complete genome is incorrect.')\n",
    "    print(len(contigs_results[feature_type]), f'genomes used for feature type {feature_type}.')"
   ]
  },
  {
   "cell_type": "code",
   "execution_count": 6,
   "metadata": {},
   "outputs": [],
   "source": [
    "# How best to visualize this? Multiple genomes on the same plot / with the same color, and feature types on different sub-panels?\n",
    "# Or all feature types on one plot?\n",
    "\n",
    "# Judging by the fact that the results for different genomes look fairly different, I think it's better to split up the plots by feature type. "
   ]
  },
  {
   "cell_type": "code",
   "execution_count": 7,
   "metadata": {},
   "outputs": [],
   "source": [
    "def plot_figure_6(contigs_results:pd.DataFrame, fig:plt.Figure=None, grids:List[GridSpec]=None):\n",
    "    \n",
    "    for i, feature_type in enumerate(feature_types):\n",
    "        ax = fig.add_subplot(grids[i])\n",
    "        ax.set_title(PRETTY_NAMES[feature_type], loc='left')\n",
    "\n",
    "        # Extract the results for the specified feature type. \n",
    "        genome_results = contigs_results[feature_type]\n",
    "        labels, handles = [],[]\n",
    "        for genome_id, results in genome_results.items():\n",
    "            labels.append(genome_id)\n",
    "            ax.scatter(*results, s=2)\n",
    "            \n",
    "            linreg = linregress(*results) # Fit a line to the data. \n",
    "            x_vals = np.linspace(0, max(results[0]))\n",
    "            y_vals = linreg.slope * x_vals + linreg.intercept\n",
    "\n",
    "            handles += ax.plot(x_vals, y_vals, lw=1)\n",
    "        \n",
    "        ax.legend(handles=handles, labels=labels)\n",
    "    \n"
   ]
  },
  {
   "cell_type": "code",
   "execution_count": 8,
   "metadata": {},
   "outputs": [
    {
     "ename": "ValueError",
     "evalue": "Inputs must not be empty.",
     "output_type": "error",
     "traceback": [
      "\u001b[0;31m---------------------------------------------------------------------------\u001b[0m",
      "\u001b[0;31mValueError\u001b[0m                                Traceback (most recent call last)",
      "Cell \u001b[0;32mIn[8], line 7\u001b[0m\n\u001b[1;32m      4\u001b[0m grids \u001b[38;5;241m=\u001b[39m GridSpec(n_rows, n_cols, hspace\u001b[38;5;241m=\u001b[39m\u001b[38;5;241m0.3\u001b[39m)\n\u001b[1;32m      5\u001b[0m grids \u001b[38;5;241m=\u001b[39m [grids[\u001b[38;5;241m0\u001b[39m, i] \u001b[38;5;28;01mfor\u001b[39;00m i \u001b[38;5;129;01min\u001b[39;00m \u001b[38;5;28mrange\u001b[39m(n_cols)] \u001b[38;5;241m+\u001b[39m [grids[\u001b[38;5;241m1\u001b[39m, i] \u001b[38;5;28;01mfor\u001b[39;00m i \u001b[38;5;129;01min\u001b[39;00m \u001b[38;5;28mrange\u001b[39m(n_cols)]\n\u001b[0;32m----> 7\u001b[0m \u001b[43mplot_figure_6\u001b[49m\u001b[43m(\u001b[49m\u001b[43mcontigs_results\u001b[49m\u001b[43m,\u001b[49m\u001b[43m \u001b[49m\u001b[43mfig\u001b[49m\u001b[38;5;241;43m=\u001b[39;49m\u001b[43mfig\u001b[49m\u001b[43m,\u001b[49m\u001b[43m \u001b[49m\u001b[43mgrids\u001b[49m\u001b[38;5;241;43m=\u001b[39;49m\u001b[43mgrids\u001b[49m\u001b[43m)\u001b[49m\n\u001b[1;32m      9\u001b[0m plt\u001b[38;5;241m.\u001b[39mtight_layout()\n",
      "Cell \u001b[0;32mIn[7], line 14\u001b[0m, in \u001b[0;36mplot_figure_6\u001b[0;34m(contigs_results, fig, grids)\u001b[0m\n\u001b[1;32m     11\u001b[0m labels\u001b[38;5;241m.\u001b[39mappend(genome_id)\n\u001b[1;32m     12\u001b[0m ax\u001b[38;5;241m.\u001b[39mscatter(\u001b[38;5;241m*\u001b[39mresults, s\u001b[38;5;241m=\u001b[39m\u001b[38;5;241m2\u001b[39m)\n\u001b[0;32m---> 14\u001b[0m linreg \u001b[38;5;241m=\u001b[39m \u001b[43mlinregress\u001b[49m\u001b[43m(\u001b[49m\u001b[38;5;241;43m*\u001b[39;49m\u001b[43mresults\u001b[49m\u001b[43m)\u001b[49m \u001b[38;5;66;03m# Fit a line to the data. \u001b[39;00m\n\u001b[1;32m     15\u001b[0m x_vals \u001b[38;5;241m=\u001b[39m np\u001b[38;5;241m.\u001b[39mlinspace(\u001b[38;5;241m0\u001b[39m, \u001b[38;5;28mmax\u001b[39m(results[\u001b[38;5;241m0\u001b[39m]))\n\u001b[1;32m     16\u001b[0m y_vals \u001b[38;5;241m=\u001b[39m linreg\u001b[38;5;241m.\u001b[39mslope \u001b[38;5;241m*\u001b[39m x_vals \u001b[38;5;241m+\u001b[39m linreg\u001b[38;5;241m.\u001b[39mintercept\n",
      "File \u001b[0;32m~/miniconda3/envs/aerobot/lib/python3.12/site-packages/scipy/stats/_stats_mstats_common.py:154\u001b[0m, in \u001b[0;36mlinregress\u001b[0;34m(x, y, alternative)\u001b[0m\n\u001b[1;32m    151\u001b[0m     y \u001b[38;5;241m=\u001b[39m np\u001b[38;5;241m.\u001b[39masarray(y)\n\u001b[1;32m    153\u001b[0m \u001b[38;5;28;01mif\u001b[39;00m x\u001b[38;5;241m.\u001b[39msize \u001b[38;5;241m==\u001b[39m \u001b[38;5;241m0\u001b[39m \u001b[38;5;129;01mor\u001b[39;00m y\u001b[38;5;241m.\u001b[39msize \u001b[38;5;241m==\u001b[39m \u001b[38;5;241m0\u001b[39m:\n\u001b[0;32m--> 154\u001b[0m     \u001b[38;5;28;01mraise\u001b[39;00m \u001b[38;5;167;01mValueError\u001b[39;00m(\u001b[38;5;124m\"\u001b[39m\u001b[38;5;124mInputs must not be empty.\u001b[39m\u001b[38;5;124m\"\u001b[39m)\n\u001b[1;32m    156\u001b[0m \u001b[38;5;28;01mif\u001b[39;00m np\u001b[38;5;241m.\u001b[39mamax(x) \u001b[38;5;241m==\u001b[39m np\u001b[38;5;241m.\u001b[39mamin(x) \u001b[38;5;129;01mand\u001b[39;00m \u001b[38;5;28mlen\u001b[39m(x) \u001b[38;5;241m>\u001b[39m \u001b[38;5;241m1\u001b[39m:\n\u001b[1;32m    157\u001b[0m     \u001b[38;5;28;01mraise\u001b[39;00m \u001b[38;5;167;01mValueError\u001b[39;00m(\u001b[38;5;124m\"\u001b[39m\u001b[38;5;124mCannot calculate a linear regression \u001b[39m\u001b[38;5;124m\"\u001b[39m\n\u001b[1;32m    158\u001b[0m                      \u001b[38;5;124m\"\u001b[39m\u001b[38;5;124mif all x values are identical\u001b[39m\u001b[38;5;124m\"\u001b[39m)\n",
      "\u001b[0;31mValueError\u001b[0m: Inputs must not be empty."
     ]
    },
    {
     "data": {
      "image/png": "[encoded data removed]",
      "text/plain": [
       "<Figure size 1500x600 with 1 Axes>"
      ]
     },
     "metadata": {},
     "output_type": "display_data"
    }
   ],
   "source": [
    "n_rows, n_cols = 2, 3\n",
    "fig = plt.figure(figsize=(5 * n_cols, 3 * n_rows))\n",
    "\n",
    "grids = GridSpec(n_rows, n_cols, hspace=0.3)\n",
    "grids = [grids[0, i] for i in range(n_cols)] + [grids[1, i] for i in range(n_cols)]\n",
    "\n",
    "plot_figure_6(contigs_results, fig=fig, grids=grids)\n",
    "\n",
    "plt.tight_layout()"
   ]
  },
  {
   "cell_type": "code",
   "execution_count": null,
   "metadata": {},
   "outputs": [],
   "source": []
  },
  {
   "cell_type": "code",
   "execution_count": null,
   "metadata": {},
   "outputs": [],
   "source": []
  }
 ],
 "metadata": {
  "kernelspec": {
   "display_name": "aerobot",
   "language": "python",
   "name": "python3"
  },
  "language_info": {
   "codemirror_mode": {
    "name": "ipython",
    "version": 3
   },
   "file_extension": ".py",
   "mimetype": "text/x-python",
   "name": "python",
   "nbconvert_exporter": "python",
   "pygments_lexer": "ipython3",
   "version": "3.12.3"
  }
 },
 "nbformat": 4,
 "nbformat_minor": 2
}
