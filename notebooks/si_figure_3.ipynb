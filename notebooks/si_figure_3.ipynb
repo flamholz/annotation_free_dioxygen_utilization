{
 "cells": [
  {
   "cell_type": "code",
   "execution_count": null,
   "metadata": {},
   "outputs": [],
   "source": [
    "# from aerobot.plot import plot_training_curve\n",
    "import os\n",
    "from aerobot.io import load_results_dict, RESULTS_PATH, FEATURE_SUBTYPES, FEATURE_TYPES\n",
    "import matplotlib.pyplot as plt\n",
    "from aerobot.plot import plot_configure_mpl, plot_model_accuracy_barplot\n",
    "from matplotlib.gridspec import GridSpec\n",
    "from aerobot.dataset import dataset_load_training_validation\n",
    "import pandas as pd \n",
    "import numpy as np \n",
    "from typing import Dict \n",
    "\n",
    "%load_ext autoreload\n",
    "%autoreload 2\n",
    "\n",
    "plot_configure_mpl(n_colors=3)"
   ]
  },
  {
   "cell_type": "markdown",
   "metadata": {},
   "source": [
    "# SI Figure 3\n",
    "\n",
    "This figure shows a selection of confusion matrices for the ternary classifiers. The most relevant feature types are probably the ones in the \"minimal list of feature types\" (see below) from Figure 1. The first row of confusion matrices in two rows, with the first row containing the confusion matrices from logistic regression-based classifiers, and the second row containing confusion matrices for the nonlinear-based classifiers."
   ]
  },
  {
   "cell_type": "code",
   "execution_count": null,
   "metadata": {},
   "outputs": [],
   "source": [
    "# \"Minimal list\" of feature types.\n",
    "feature_types = ['KO', 'embedding.geneset.oxygen', 'embedding.genome', 'chemical', 'aa_1mer', 'aa_3mer']"
   ]
  },
  {
   "cell_type": "code",
   "execution_count": null,
   "metadata": {},
   "outputs": [],
   "source": [
    "def plot_si_figure_1a(nonlinear_results:Dict, fig:plt.Figure, grid:GridSpec):\n",
    "    '''Plots the first row of confusion matrices, which "
   ]
  }
 ],
 "metadata": {
  "language_info": {
   "name": "python"
  }
 },
 "nbformat": 4,
 "nbformat_minor": 2
}
