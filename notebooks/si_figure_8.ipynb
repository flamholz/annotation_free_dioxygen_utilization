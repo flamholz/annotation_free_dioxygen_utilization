{
 "cells": [
  {
   "cell_type": "code",
   "execution_count": null,
   "metadata": {},
   "outputs": [],
   "source": [
    "from aerobot.dataset import dataset_load\n",
    "from aerobot.plot import *\n",
    "# from aerobot.utils import print_taxonomy_info\n",
    "from aerobot.io import load_results_dict, RESULTS_PATH, DATA_PATH\n",
    "import numpy as np \n",
    "import os\n",
    "from matplotlib.gridspec import GridSpec\n",
    "import pandas as pd \n",
    "import subprocess\n",
    "from typing import Dict\n",
    "\n",
    "%load_ext autoreload\n",
    "%autoreload 2\n",
    "\n",
    "plot_configure_mpl()"
   ]
  },
  {
   "cell_type": "markdown",
   "metadata": {},
   "source": [
    "# SI Figure 8"
   ]
  },
  {
   "cell_type": "code",
   "execution_count": null,
   "metadata": {},
   "outputs": [],
   "source": []
  }
 ],
 "metadata": {
  "language_info": {
   "name": "python"
  }
 },
 "nbformat": 4,
 "nbformat_minor": 2
}
