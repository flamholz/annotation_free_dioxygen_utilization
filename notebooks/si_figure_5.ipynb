{
 "cells": [
  {
   "cell_type": "code",
   "execution_count": null,
   "metadata": {},
   "outputs": [],
   "source": []
  },
  {
   "cell_type": "markdown",
   "metadata": {},
   "source": [
    "# SI Figure 5\n",
    "\n",
    "This figure is a summary of the performance of the 16S classifier. It should show both the confusion matrix and accuracy. I think I can base it on the SI Figure 4 in the current version of the manuscript, which is just a single confusion matrix with the accuracy included in the title. "
   ]
  },
  {
   "cell_type": "markdown",
   "metadata": {},
   "source": []
  }
 ],
 "metadata": {
  "language_info": {
   "name": "python"
  }
 },
 "nbformat": 4,
 "nbformat_minor": 2
}
