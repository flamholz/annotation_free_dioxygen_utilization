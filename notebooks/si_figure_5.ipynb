{
 "cells": [
  {
   "cell_type": "code",
   "execution_count": null,
   "metadata": {},
   "outputs": [],
   "source": [
    "import matplotlib.pyplot as plt\n",
    "from aerobot.io import RESULTS_PATH, load_results_dict, DATA_PATH\n",
    "from aerobot.plot import plot_configure_mpl \n",
    "import pandas as pd\n",
    "from matplotlib.gridspec import GridSpec\n",
    "from scipy.stats import linregress\n",
    "import numpy as np\n",
    "import os\n",
    "from typing import List, Dict, Tuple\n",
    "%load_ext autoreload \n",
    "%autoreload 2 \n",
    "\n",
    "plot_configure_mpl(n_colors=6)"
   ]
  },
  {
   "cell_type": "markdown",
   "metadata": {},
   "source": [
    "# SI Figure 5"
   ]
  },
  {
   "cell_type": "code",
   "execution_count": null,
   "metadata": {},
   "outputs": [],
   "source": [
    "def plot_si_figure_5(train_rna16s_results:Dict, fig:plt.Figure=None, grid:GridSpec=None)"
   ]
  }
 ],
 "metadata": {
  "language_info": {
   "name": "python"
  }
 },
 "nbformat": 4,
 "nbformat_minor": 2
}
