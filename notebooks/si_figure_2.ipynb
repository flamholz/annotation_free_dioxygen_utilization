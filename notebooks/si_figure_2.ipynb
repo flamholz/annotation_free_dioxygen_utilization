{
 "cells": [
  {
   "cell_type": "code",
   "execution_count": 2,
   "metadata": {},
   "outputs": [],
   "source": [
    "# from aerobot.plot import plot_training_curve\n",
    "import os\n",
    "from aerobot.io import load_results_dict, RESULTS_PATH, FEATURE_SUBTYPES, FEATURE_TYPES\n",
    "import matplotlib.pyplot as plt\n",
    "from aerobot.plot import plot_configure_mpl, plot_model_accuracy_barplot\n",
    "from matplotlib.gridspec import GridSpec\n",
    "from aerobot.dataset import dataset_load_training_validation\n",
    "import pandas as pd \n",
    "import numpy as np \n",
    "\n",
    "%load_ext autoreload\n",
    "%autoreload 2\n",
    "\n",
    "plot_configure_mpl(n_colors=3)"
   ]
  },
  {
   "cell_type": "markdown",
   "metadata": {},
   "source": [
    "# SI Figure 2 \n",
    "\n",
    "The second supplementary figure consists of three panels.\n",
    "\n",
    "- Panel A: The final training and validation accuracies of the logistic classifiers applied for ternary classification. \n",
    "- Panel B: The final training and validation accuracies of the nonlinear classifiers applied for ternary classification. \n",
    "- Panel C: The final training and validation accuracies of the logistic classifiers applied for binary classification. \n",
    "\n",
    "The accuracy values can be represented as side-by-side bar plots, and the annotation-free versus annotation-based feature types should be colored differently. I think all feature types (not just the few selected for the main-text figure), should be displayed, although I should probably double-check. \n"
   ]
  },
  {
   "cell_type": "code",
   "execution_count": 5,
   "metadata": {},
   "outputs": [],
   "source": [
    "# Load the model training results. \n",
    "nonlinear_results_ternary = dict()\n",
    "logistic_results_ternary = dict()\n",
    "logistic_results_binary = dict()\n",
    "\n",
    "for feature_type in FEATURE_SUBTYPES + FEATURE_TYPES:\n",
    "    nonlinear_results_ternary[feature_type] = load_results_dict(os.path.join(RESULTS_PATH, f'train_nonlinear_{feature_type}_ternary.json'))\n",
    "    logistic_results_ternary[feature_type] = load_results_dict(os.path.join(RESULTS_PATH, f'train_logistic_{feature_type}_ternary.json'))\n",
    "    # logistic_results_binary[feature_type] = load_results_dict(os.path.join(RESULTS_PATH, f'train_logistic_{feature_type}_binary.json'))"
   ]
  },
  {
   "cell_type": "code",
   "execution_count": null,
   "metadata": {},
   "outputs": [],
   "source": [
    "def plot_si_figure_2a(grid:GridSpec=None, fig:plt.Figure=None):\n",
    "    pass"
   ]
  },
  {
   "cell_type": "code",
   "execution_count": null,
   "metadata": {},
   "outputs": [],
   "source": [
    "def plot_si_figure_2b(grid:GridSpec=None, fig:plt.Figure=None):\n",
    "    pass"
   ]
  },
  {
   "cell_type": "code",
   "execution_count": null,
   "metadata": {},
   "outputs": [],
   "source": [
    "def plot_si_figure_2b(grid:GridSpec=None, fig:plt.Figure=None):\n",
    "    pass"
   ]
  }
 ],
 "metadata": {
  "kernelspec": {
   "display_name": "aerobot",
   "language": "python",
   "name": "python3"
  },
  "language_info": {
   "codemirror_mode": {
    "name": "ipython",
    "version": 3
   },
   "file_extension": ".py",
   "mimetype": "text/x-python",
   "name": "python",
   "nbconvert_exporter": "python",
   "pygments_lexer": "ipython3",
   "version": "3.11.8"
  }
 },
 "nbformat": 4,
 "nbformat_minor": 2
}
