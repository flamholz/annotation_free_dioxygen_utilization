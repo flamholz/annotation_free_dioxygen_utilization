{
 "cells": [
  {
   "cell_type": "code",
   "execution_count": null,
   "metadata": {},
   "outputs": [],
   "source": []
  },
  {
   "cell_type": "markdown",
   "metadata": {},
   "source": [
    "# SI Figure 1\n",
    "\n",
    "The first supplementary figure consists of two panels.\n",
    "\n",
    "- Panel A: The phylogenetic composition of the training and validation datasets at the phylum level. Each phylum is represented by a split bar, where each portion of the bar represents the number of entries in the training or validation dataset belonging to that phylum.\n",
    "- Panel B: The labels of entries in the training and validation datasets, i.e. aerobe, anaerobe, or facultative. This should also be represented as a stacked bar plot. \n"
   ]
  }
 ],
 "metadata": {
  "language_info": {
   "name": "python"
  }
 },
 "nbformat": 4,
 "nbformat_minor": 2
}
