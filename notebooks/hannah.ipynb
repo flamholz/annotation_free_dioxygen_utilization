{
 "cells": [
  {
   "cell_type": "code",
   "execution_count": 3,
   "metadata": {},
   "outputs": [],
   "source": [
    "from aerobot.utils import DATA_PATH, MODELS_PATH\n",
    "import os\n",
    "import numpy as np \n",
    "import pandas as pd \n",
    "from aerobot.models import NonlinearClassifier\n",
    "\n",
    "HANNAHS_DATA_PATH = os.path.join(DATA_PATH, 'hannah')"
   ]
  },
  {
   "cell_type": "raw",
   "metadata": {
    "vscode": {
     "languageId": "raw"
    }
   },
   "source": [
    "import argparse\n",
    "from aerobot.features import rna16s\n",
    "from aerobot.utils import DATA_PATH\n",
    "import os\n",
    "\n",
    "# NOTE: This script must be run in the aerobot-16s environment due to dependency issues when using the genslm model. \n",
    "\n",
    "\n",
    "if __name__ == '__main__':\n",
    "\n",
    "    parser = argparse.ArgumentParser()\n",
    "    parser.add_argument('--input-path', type=str, default=None, help='The path to the input FASTA file containing 16S RNA sequences.')\n",
    "    parser.add_argument('--output-path', type=str, default=None, help='The path of the file where the embeddings will be written.')\n",
    "\n",
    "    args = parser.parse_args()\n",
    "\n",
    "    embeddings_df = rna16s.from_fasta(args.input_path) # The index is already the sequence ID. \n",
    "    embeddings_df.to_csv(args.output_path)"
   ]
  },
  {
   "cell_type": "code",
   "execution_count": 6,
   "metadata": {},
   "outputs": [],
   "source": [
    "embeddings = pd.read_csv(os.path.join(HANNAHS_DATA_PATH, 'embeddings.csv'), index_col=0)\n",
    "model = NonlinearClassifier.load(os.path.join(MODELS_PATH, 'linear_embedding_rna16s_ternary.joblib'))"
   ]
  },
  {
   "cell_type": "code",
   "execution_count": 7,
   "metadata": {},
   "outputs": [],
   "source": [
    "predictions = model.predict(embeddings.values)"
   ]
  },
  {
   "cell_type": "code",
   "execution_count": 27,
   "metadata": {},
   "outputs": [],
   "source": [
    "predictions_df = pd.DataFrame({'asv_id':embeddings.index, 'prediction':predictions}).set_index('asv_id')\n",
    "predictions_df.to_csv(os.path.join(HANNAHS_DATA_PATH, 'predictions.csv'))"
   ]
  },
  {
   "cell_type": "code",
   "execution_count": 13,
   "metadata": {},
   "outputs": [
    {
     "name": "stdout",
     "output_type": "stream",
     "text": [
      "Total ASVs: 96068\n",
      "Total number of aeroboes: 68666 (71%)\n",
      "Total number of anaerobes: 14523 (15%)\n",
      "Total number of facultative: 12879 (13%)\n"
     ]
    }
   ],
   "source": [
    "total = len(predictions_df)\n",
    "n_aerobe = len(predictions_df[predictions_df['prediction'] == 'aerobe'])\n",
    "n_anaerobe = len(predictions_df[predictions_df['prediction'] == 'anaerobe'])\n",
    "n_facultative = len(predictions_df[predictions_df['prediction'] == 'facultative'])\n",
    "\n",
    "print('Total ASVs:', total)\n",
    "print('Total number of aeroboes:', n_aerobe , f'({int(100 * n_aerobe / total)}%)')\n",
    "print('Total number of anaerobes:', n_anaerobe, f'({int(100 * n_anaerobe / total)}%)')\n",
    "print('Total number of facultative:', n_facultative,  f'({int(100 * n_facultative / total)}%)')\n"
   ]
  },
  {
   "cell_type": "code",
   "execution_count": 24,
   "metadata": {},
   "outputs": [],
   "source": [
    "taxonomy_df = pd.read_csv(os.path.join(HANNAHS_DATA_PATH, 'ASVs_taxonomy_Mar2023.tsv'), sep='\\t', index_col=0)\n",
    "taxonomy_df.index.name = 'asv_id'"
   ]
  },
  {
   "cell_type": "code",
   "execution_count": null,
   "metadata": {},
   "outputs": [],
   "source": [
    "predictions_df = predictions_df.merge(taxonomy_df, how='left', left_index=True, right_index=True)\n",
    "predictions_df.to_csv(os.path.join(HANNAHS_DATA_PATH, 'predictions_with_taxonomy.csv'))"
   ]
  },
  {
   "cell_type": "code",
   "execution_count": 30,
   "metadata": {},
   "outputs": [],
   "source": [
    "# Might be useful to figure out the abundance of different taxa in each cat"
   ]
  },
  {
   "cell_type": "code",
   "execution_count": null,
   "metadata": {},
   "outputs": [],
   "source": []
  }
 ],
 "metadata": {
  "kernelspec": {
   "display_name": "aerobot",
   "language": "python",
   "name": "python3"
  },
  "language_info": {
   "codemirror_mode": {
    "name": "ipython",
    "version": 3
   },
   "file_extension": ".py",
   "mimetype": "text/x-python",
   "name": "python",
   "nbconvert_exporter": "python",
   "pygments_lexer": "ipython3",
   "version": "3.12.3"
  }
 },
 "nbformat": 4,
 "nbformat_minor": 2
}
