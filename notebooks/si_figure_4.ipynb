{
 "cells": [
  {
   "cell_type": "code",
   "execution_count": 51,
   "metadata": {},
   "outputs": [
    {
     "name": "stdout",
     "output_type": "stream",
     "text": [
      "The autoreload extension is already loaded. To reload it, use:\n",
      "  %reload_ext autoreload\n"
     ]
    }
   ],
   "source": [
    "from aerobot.dataset import dataset_load\n",
    "from aerobot.plot import *\n",
    "# from aerobot.utils import print_taxonomy_info\n",
    "from aerobot.io import FEATURE_SUBTYPES, FEATURE_TYPES, load_results_dict, RESULTS_PATH, DATA_PATH\n",
    "import numpy as np \n",
    "import os\n",
    "from matplotlib.gridspec import GridSpec\n",
    "import pandas as pd \n",
    "import subprocess\n",
    "from typing import Dict\n",
    "\n",
    "%load_ext autoreload\n",
    "%autoreload 2\n",
    "\n",
    "plot_configure_mpl(n_colors=6)\n"
   ]
  },
  {
   "cell_type": "markdown",
   "metadata": {},
   "source": [
    "# SI Figure 4"
   ]
  },
  {
   "cell_type": "code",
   "execution_count": 53,
   "metadata": {},
   "outputs": [],
   "source": [
    "def plot_si_figure_4a(coverage_by_habitat_df:pd.DataFrame, fig:plt.Figure=None, grid:GridSpec=None):\n",
    "\n",
    "    # Make the easiest plot, which just shows percent coverage by phylogenetic level. \n",
    "    ax = fig.add_subplot(grid)\n",
    "    n = len(coverage_by_habitat_df) # Number of habitats. \n",
    "    \n",
    "    human_habitat_color, color = 'tab:blue', 'tab:gray'\n",
    "    colors = [color if not is_human else human_habitat_color for is_human in coverage_by_habitat_df.habitat.str.contains('human')]\n",
    "    # facecolors = ['none' if not is_human else 'tab:blue' for is_human in human_samples]\n",
    "    sizes = [3 if not is_human else 20 for is_human in coverage_by_habitat_df.habitat.str.contains('human')]\n",
    "\n",
    "    for i, level in enumerate(LEVELS):\n",
    "        ax.scatter(np.array([i] * n), coverage_by_habitat_df[level].values, linewidth=0.5, facecolors=colors, s=sizes)# , edgecolors=edgecolors)\n",
    "\n",
    "    x_vals, y_vals = [], []\n",
    "    for i, level in enumerate(LEVELS): # Make sure these are plotted on top.\n",
    "        x_vals.append(i)\n",
    "        y_vals.append(coverage_by_habitat_df[level].mean())\n",
    "\n",
    "    ax.plot(x_vals, y_vals, c='black', lw=1)\n",
    "    ax.scatter(x_vals, y_vals, c='black', s=20)\n",
    "\n",
    "    # Custom legend. Colors indicate annotation-free or annotation-full, and hatching indicates training or validation set. \n",
    "    handles = [plt.Rectangle((0, 0), 1, 1, facecolor=human_sample_color, edgecolor='black', linewidth=0.5)]\n",
    "    handles.append(plt.Rectangle((0, 0), 1, 1, facecolor=color, edgecolor='black', linewidth=0.5))\n",
    "    handles.append(plt.Rectangle((0, 0), 1, 1, facecolor='black', edgecolor='black', linewidth=0.5))\n",
    "\n",
    "    labels = ['human habitats', 'non-human habitats', 'mean']\n",
    "    ax.legend(handles, labels, fontsize=7, columnspacing=0.3, handletextpad=0.3, loc='lower left')\n",
    "\n",
    "\n",
    "    ax.set_xticks(np.arange(len(LEVELS)), labels=LEVELS)\n",
    "    ax.set_ylabel('percent coverage')\n",
    "    ax.set_xlabel('phylogenetic level')\n",
    "    ax.set_title('Phylogenetic label coverage in the Earth Microbiome Project')\n",
    "plt.show()"
   ]
  },
  {
   "cell_type": "code",
   "execution_count": null,
   "metadata": {},
   "outputs": [],
   "source": []
  }
 ],
 "metadata": {
  "kernelspec": {
   "display_name": "aerobot",
   "language": "python",
   "name": "python3"
  },
  "language_info": {
   "codemirror_mode": {
    "name": "ipython",
    "version": 3
   },
   "file_extension": ".py",
   "mimetype": "text/x-python",
   "name": "python",
   "nbconvert_exporter": "python",
   "pygments_lexer": "ipython3",
   "version": "3.12.3"
  }
 },
 "nbformat": 4,
 "nbformat_minor": 2
}
