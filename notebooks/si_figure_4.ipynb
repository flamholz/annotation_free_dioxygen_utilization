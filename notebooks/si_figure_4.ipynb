{
 "cells": [
  {
   "cell_type": "code",
   "execution_count": 5,
   "metadata": {},
   "outputs": [
    {
     "name": "stdout",
     "output_type": "stream",
     "text": [
      "The autoreload extension is already loaded. To reload it, use:\n",
      "  %reload_ext autoreload\n"
     ]
    }
   ],
   "source": [
    "from aerobot.dataset import dataset_load\n",
    "from aerobot.plot import *\n",
    "# from aerobot.utils import print_taxonomy_info\n",
    "from aerobot.io import load_results_dict, RESULTS_PATH, DATA_PATH\n",
    "import numpy as np \n",
    "import os\n",
    "from matplotlib.gridspec import GridSpec\n",
    "import pandas as pd \n",
    "import subprocess\n",
    "from typing import Dict\n",
    "\n",
    "%load_ext autoreload\n",
    "%autoreload 2\n",
    "\n",
    "plot_configure_mpl()\n"
   ]
  },
  {
   "cell_type": "code",
   "execution_count": 6,
   "metadata": {},
   "outputs": [],
   "source": [
    "# \"Minimal list\" of feature types.\n",
    "FEATURE_TYPES = ['KO', 'embedding.geneset.oxygen', 'embedding.genome', 'chemical', 'aa_1mer', 'aa_3mer']"
   ]
  },
  {
   "cell_type": "code",
   "execution_count": 7,
   "metadata": {},
   "outputs": [
    {
     "ename": "FileNotFoundError",
     "evalue": "[Errno 2] No such file or directory: '/home/prichter/Documents/aerobot/aerobot/../results/phylo_cv_nonlinear_aa_1mer_ternary.json'",
     "output_type": "error",
     "traceback": [
      "\u001b[0;31m---------------------------------------------------------------------------\u001b[0m",
      "\u001b[0;31mFileNotFoundError\u001b[0m                         Traceback (most recent call last)",
      "Cell \u001b[0;32mIn[7], line 2\u001b[0m\n\u001b[1;32m      1\u001b[0m \u001b[38;5;66;03m# Load in the phylogenetic cross-validation results for the specified feature types. \u001b[39;00m\n\u001b[0;32m----> 2\u001b[0m phylo_cv_results \u001b[38;5;241m=\u001b[39m {feature_type:\u001b[43mload_results_dict\u001b[49m\u001b[43m(\u001b[49m\u001b[43mos\u001b[49m\u001b[38;5;241;43m.\u001b[39;49m\u001b[43mpath\u001b[49m\u001b[38;5;241;43m.\u001b[39;49m\u001b[43mjoin\u001b[49m\u001b[43m(\u001b[49m\u001b[43mRESULTS_PATH\u001b[49m\u001b[43m,\u001b[49m\u001b[43m \u001b[49m\u001b[38;5;124;43mf\u001b[39;49m\u001b[38;5;124;43m'\u001b[39;49m\u001b[38;5;124;43mphylo_cv_nonlinear_\u001b[39;49m\u001b[38;5;132;43;01m{\u001b[39;49;00m\u001b[43mfeature_type\u001b[49m\u001b[38;5;132;43;01m}\u001b[39;49;00m\u001b[38;5;124;43m_ternary.json\u001b[39;49m\u001b[38;5;124;43m'\u001b[39;49m\u001b[43m)\u001b[49m\u001b[43m)\u001b[49m \u001b[38;5;28;01mfor\u001b[39;00m feature_type \u001b[38;5;129;01min\u001b[39;00m FEATURE_TYPES}\n",
      "File \u001b[0;32m~/Documents/aerobot/aerobot/io.py:88\u001b[0m, in \u001b[0;36mload_results_dict\u001b[0;34m(path)\u001b[0m\n\u001b[1;32m     86\u001b[0m \u001b[38;5;28;01massert\u001b[39;00m fmt \u001b[38;5;129;01min\u001b[39;00m [\u001b[38;5;124m'\u001b[39m\u001b[38;5;124mpkl\u001b[39m\u001b[38;5;124m'\u001b[39m, \u001b[38;5;124m'\u001b[39m\u001b[38;5;124mjson\u001b[39m\u001b[38;5;124m'\u001b[39m], \u001b[38;5;124m'\u001b[39m\u001b[38;5;124mread_results_dict: File is not in a supported format. Must be either .pkl or .json.\u001b[39m\u001b[38;5;124m'\u001b[39m\n\u001b[1;32m     87\u001b[0m \u001b[38;5;28;01mif\u001b[39;00m fmt \u001b[38;5;241m==\u001b[39m \u001b[38;5;124m'\u001b[39m\u001b[38;5;124mjson\u001b[39m\u001b[38;5;124m'\u001b[39m:\n\u001b[0;32m---> 88\u001b[0m     \u001b[38;5;28;01mwith\u001b[39;00m \u001b[38;5;28;43mopen\u001b[39;49m\u001b[43m(\u001b[49m\u001b[43mpath\u001b[49m\u001b[43m,\u001b[49m\u001b[43m \u001b[49m\u001b[38;5;124;43m'\u001b[39;49m\u001b[38;5;124;43mr\u001b[39;49m\u001b[38;5;124;43m'\u001b[39;49m\u001b[43m)\u001b[49m \u001b[38;5;28;01mas\u001b[39;00m f:\n\u001b[1;32m     89\u001b[0m         results \u001b[38;5;241m=\u001b[39m json\u001b[38;5;241m.\u001b[39mload(f)\n\u001b[1;32m     90\u001b[0m \u001b[38;5;28;01melif\u001b[39;00m fmt \u001b[38;5;241m==\u001b[39m \u001b[38;5;124m'\u001b[39m\u001b[38;5;124mpkl\u001b[39m\u001b[38;5;124m'\u001b[39m:\n",
      "\u001b[0;31mFileNotFoundError\u001b[0m: [Errno 2] No such file or directory: '/home/prichter/Documents/aerobot/aerobot/../results/phylo_cv_nonlinear_aa_1mer_ternary.json'"
     ]
    }
   ],
   "source": [
    "# Load in the phylogenetic cross-validation results for the specified feature types. \n",
    "phylo_cv_results = {feature_type:load_results_dict(os.path.join(RESULTS_PATH, f'phylo_cv_nonlinear_{feature_type}_ternary.json')) for feature_type in FEATURE_TYPES}"
   ]
  },
  {
   "cell_type": "markdown",
   "metadata": {},
   "source": [
    "# SI Figure 4"
   ]
  },
  {
   "cell_type": "code",
   "execution_count": null,
   "metadata": {},
   "outputs": [],
   "source": [
    "def plot_si_figure_4a(taxonomy_coverage_df:pd.DataFrame, fig:plt.Figure=None, grid:GridSpec=None):\n",
    "\n",
    "    # Make the easiest plot, which just shows percent coverage by phylogenetic level. \n",
    "    ax = fig.add_subplot(grid)\n",
    "    n = len(taxonomy_coverage_df) # Number of habitats. \n",
    "    \n",
    "    human_habitat_color, color = 'tab:blue', 'tab:gray'\n",
    "    colors = [color if not is_human else human_habitat_color for is_human in taxonomy_coverage_df.habitat.str.contains('human')]\n",
    "    # facecolors = ['none' if not is_human else 'tab:blue' for is_human in human_samples]\n",
    "    sizes = [3 if not is_human else 20 for is_human in taxonomy_coverage_df.habitat.str.contains('human')]\n",
    "\n",
    "    for i, level in enumerate(LEVELS):\n",
    "        ax.scatter(np.array([i] * n), taxonomy_coverage_df[level].values, linewidth=0.5, facecolors=colors, s=sizes)# , edgecolors=edgecolors)\n",
    "\n",
    "    x_vals, y_vals = [], []\n",
    "    for i, level in enumerate(LEVELS): # Make sure these are plotted on top.\n",
    "        x_vals.append(i)\n",
    "        y_vals.append(taxonomy_coverage_df[level].mean())\n",
    "\n",
    "    ax.plot(x_vals, y_vals, c='black', lw=1)\n",
    "    ax.scatter(x_vals, y_vals, c='black', s=20)\n",
    "\n",
    "    # Custom legend. Colors indicate annotation-free or annotation-full, and hatching indicates training or validation set. \n",
    "    handles = [plt.Rectangle((0, 0), 1, 1, facecolor=human_sample_color, edgecolor='black', linewidth=0.5)]\n",
    "    handles.append(plt.Rectangle((0, 0), 1, 1, facecolor=color, edgecolor='black', linewidth=0.5))\n",
    "    handles.append(plt.Rectangle((0, 0), 1, 1, facecolor='black', edgecolor='black', linewidth=0.5))\n",
    "\n",
    "    labels = ['human habitats', 'non-human habitats', 'mean']\n",
    "    ax.legend(handles, labels, fontsize=7, columnspacing=0.3, handletextpad=0.3, loc='lower left')\n",
    "\n",
    "    ax.set_xticks(np.arange(len(LEVELS)), labels=LEVELS)\n",
    "    ax.set_ylabel('percent coverage')\n",
    "    ax.set_xlabel('phylogenetic level')\n",
    "    ax.set_title('Phylogenetic label coverage in the Earth Microbiome Project')"
   ]
  },
  {
   "cell_type": "code",
   "execution_count": null,
   "metadata": {},
   "outputs": [
    {
     "ename": "NameError",
     "evalue": "name 'Dict' is not defined",
     "output_type": "error",
     "traceback": [
      "\u001b[0;31m---------------------------------------------------------------------------\u001b[0m",
      "\u001b[0;31mNameError\u001b[0m                                 Traceback (most recent call last)",
      "Cell \u001b[0;32mIn[1], line 1\u001b[0m\n\u001b[0;32m----> 1\u001b[0m \u001b[38;5;28;01mdef\u001b[39;00m \u001b[38;5;21mplot_si_figure_4b\u001b[39m(phylo_cv_results:\u001b[43mDict\u001b[49m, fig:plt\u001b[38;5;241m.\u001b[39mFigure\u001b[38;5;241m=\u001b[39m\u001b[38;5;28;01mNone\u001b[39;00m, grid:GridSpec\u001b[38;5;241m=\u001b[39m\u001b[38;5;28;01mNone\u001b[39;00m):\n\u001b[1;32m      2\u001b[0m \u001b[38;5;250m    \u001b[39m\u001b[38;5;124;03m'''Phylogenetic cross-validation results for the minimal list of feature types.'''\u001b[39;00m\n\u001b[1;32m      3\u001b[0m     ax \u001b[38;5;241m=\u001b[39m fig\u001b[38;5;241m.\u001b[39madd_subplot(grid)\n",
      "\u001b[0;31mNameError\u001b[0m: name 'Dict' is not defined"
     ]
    }
   ],
   "source": [
    "def plot_si_figure_4b(phylo_cv_results:Dict, fig:plt.Figure=None, grid:GridSpec=None):\n",
    "    '''Phylogenetic cross-validation results for the minimal list of feature types.'''\n",
    "    ax = fig.add_subplot(grid)\n",
    "    \n",
    "    for feature_type, results in phylo_cv_results.items():\n",
    "        plot_phylo_cv(results, ax)\n",
    "    "
   ]
  },
  {
   "cell_type": "code",
   "execution_count": null,
   "metadata": {},
   "outputs": [],
   "source": [
    "fig = plt.figure(figsize=(10, 5))\n",
    "grid = GridSpec(1, 1, width_ratios=(3, 1), wspace=0.2, hspace=0.3)\n",
    "\n",
    "plot_si_figure_4a(earth_microbiome_df, grid=grid[0, 0], fig=fig)\n",
    "\n",
    "plt.tight_layout()\n",
    "plt.show()"
   ]
  },
  {
   "cell_type": "code",
   "execution_count": null,
   "metadata": {},
   "outputs": [
    {
     "data": {
      "text/plain": [
       "{'scores': {'Phylum': [0.5655778860149446,\n",
       "   0.440836712586159,\n",
       "   0.6025999403658978,\n",
       "   0.5689065517743881,\n",
       "   0.5434111711483974,\n",
       "   0.6310010440445223,\n",
       "   0.5350620873285074,\n",
       "   0.6033046926635822,\n",
       "   0.6551037918887231,\n",
       "   0.8384208384208384,\n",
       "   0.5741948573192784,\n",
       "   0.6403084301433436,\n",
       "   0.48145019795993993,\n",
       "   0.4878563931800002,\n",
       "   0.4366290369163996,\n",
       "   0.5430590049636547,\n",
       "   0.5986750096032821,\n",
       "   0.5169232171693494,\n",
       "   0.6040940204055275,\n",
       "   0.6087583200482521,\n",
       "   0.6104197628434282,\n",
       "   0.5310344827586208,\n",
       "   0.45285832642916324,\n",
       "   0.4059832238295446,\n",
       "   0.5104032935713853],\n",
       "  'Class': [0.5995321205405238,\n",
       "   0.570546817453096,\n",
       "   0.6305013171941863,\n",
       "   0.36446030183727035,\n",
       "   0.6226448466829307,\n",
       "   0.6386465767909068,\n",
       "   0.7380952380952381,\n",
       "   0.7852758780110638,\n",
       "   0.46480319367643314,\n",
       "   0.6362869928014008,\n",
       "   0.3948632136725321,\n",
       "   0.5966550973186334,\n",
       "   0.48891562443224296,\n",
       "   0.4814232217305503,\n",
       "   0.6375356350966107,\n",
       "   0.5518931501705303,\n",
       "   0.5855515224843718,\n",
       "   0.4560088899599684,\n",
       "   0.46588113451630514,\n",
       "   0.6006736427297176,\n",
       "   0.6151202634235508,\n",
       "   0.6114724834552421,\n",
       "   0.5542560103963613,\n",
       "   0.5302291204730228,\n",
       "   0.5714743890023547],\n",
       "  'Order': [0.5966862945895204,\n",
       "   0.7414526891719496,\n",
       "   0.6040812478280045,\n",
       "   0.7906209655013271,\n",
       "   0.607601807669974,\n",
       "   0.6621902710988056,\n",
       "   0.639699296858144,\n",
       "   0.7986037173553067,\n",
       "   0.6387203303765576,\n",
       "   0.6114969467961289,\n",
       "   0.6692708800184018,\n",
       "   0.6492792413488914,\n",
       "   0.6637024500206778,\n",
       "   0.8050943354688154,\n",
       "   0.5858623652337795,\n",
       "   0.6787301587301587,\n",
       "   0.5597715496571761,\n",
       "   0.5471585401340798,\n",
       "   0.5884557588614868,\n",
       "   0.697782874617737,\n",
       "   0.6259250109793587,\n",
       "   0.6089017456272644,\n",
       "   0.6228964831967068,\n",
       "   0.6678404247886537,\n",
       "   0.5491741961503686],\n",
       "  'Family': [0.7374845890121767,\n",
       "   0.7690713505475345,\n",
       "   0.7440334378265413,\n",
       "   0.643567315668765,\n",
       "   0.6981028499477918,\n",
       "   0.7562002376708259,\n",
       "   0.6595204135165772,\n",
       "   0.6757022047719722,\n",
       "   0.7609770056661155,\n",
       "   0.6541425559038169,\n",
       "   0.6852130926693382,\n",
       "   0.6857753357753357,\n",
       "   0.6239904751557294,\n",
       "   0.7120098039215687,\n",
       "   0.7325980712404369,\n",
       "   0.5579084031753935,\n",
       "   0.6548002163431736,\n",
       "   0.6020735406874022,\n",
       "   0.7067103868574457,\n",
       "   0.7263845350052248,\n",
       "   0.7056792925710503,\n",
       "   0.7808226878059008,\n",
       "   0.674344375431332,\n",
       "   0.7934770634811782,\n",
       "   0.736654353179777],\n",
       "  'Genus': [0.7647595431076164,\n",
       "   0.6602912436245769,\n",
       "   0.6749068397643948,\n",
       "   0.7442474001094691,\n",
       "   0.7424041277676329,\n",
       "   0.7520943752793593,\n",
       "   0.7086285650623886,\n",
       "   0.7452044252044252,\n",
       "   0.7338473117557526,\n",
       "   0.7457828169435713,\n",
       "   0.7190033908300162,\n",
       "   0.757137268052761,\n",
       "   0.7449939320388349,\n",
       "   0.7181223023574229,\n",
       "   0.6645472582972584,\n",
       "   0.6955861202330639,\n",
       "   0.7217249507572089,\n",
       "   0.7138301708702183,\n",
       "   0.776509145789651,\n",
       "   0.7464480697717509,\n",
       "   0.6940942546914443,\n",
       "   0.6586626618598873,\n",
       "   0.7421253307953015,\n",
       "   0.788405920768198,\n",
       "   0.7420870412235544],\n",
       "  'Species': [0.7761933661590138,\n",
       "   0.774403073286052,\n",
       "   0.7723099393329879,\n",
       "   0.796266007769736,\n",
       "   0.7930875576036867,\n",
       "   0.7977457518083814,\n",
       "   0.8044719445187405,\n",
       "   0.7795263736900006,\n",
       "   0.7877030629652434,\n",
       "   0.7968306576636434,\n",
       "   0.7746451409051337,\n",
       "   0.7748662162677965,\n",
       "   0.8084886908349839,\n",
       "   0.7706815511163337,\n",
       "   0.7822623977963784,\n",
       "   0.7771921202118004,\n",
       "   0.7959568149938819,\n",
       "   0.8116716897387435,\n",
       "   0.8325780267372052,\n",
       "   0.7787074643558373,\n",
       "   0.8199413145539906,\n",
       "   0.8457700363476713,\n",
       "   0.8332356248732555,\n",
       "   0.7560214680303634,\n",
       "   0.7528810866451844]},\n",
       " 'feature_type': 'KO',\n",
       " 'model_class': 'nonlinear',\n",
       " 'binary': 0}"
      ]
     },
     "execution_count": 60,
     "metadata": {},
     "output_type": "execute_result"
    }
   ],
   "source": [
    "load_results_dict(os.path.join(RESULTS_PATH, 'phylo_cv_nonlinear_KO_ternary.json'))"
   ]
  },
  {
   "cell_type": "code",
   "execution_count": null,
   "metadata": {},
   "outputs": [],
   "source": []
  }
 ],
 "metadata": {
  "kernelspec": {
   "display_name": "aerobot",
   "language": "python",
   "name": "python3"
  },
  "language_info": {
   "codemirror_mode": {
    "name": "ipython",
    "version": 3
   },
   "file_extension": ".py",
   "mimetype": "text/x-python",
   "name": "python",
   "nbconvert_exporter": "python",
   "pygments_lexer": "ipython3",
   "version": "3.12.3"
  }
 },
 "nbformat": 4,
 "nbformat_minor": 2
}
