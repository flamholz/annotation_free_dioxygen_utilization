{
 "cells": [
  {
   "cell_type": "code",
   "execution_count": 13,
   "metadata": {},
   "outputs": [
    {
     "name": "stdout",
     "output_type": "stream",
     "text": [
      "The autoreload extension is already loaded. To reload it, use:\n",
      "  %reload_ext autoreload\n"
     ]
    }
   ],
   "source": [
    "import numpy as np\n",
    "import pandas as pd\n",
    "import matplotlib as mpl\n",
    "from matplotlib.gridspec import GridSpec\n",
    "from aerobot.io import RESULTS_PATH, load_results_dict\n",
    "from aerobot.plot import plot_configure_mpl, ANNOTATION_BASED_FEATURE_TYPES, PRETTY_NAMES, plot_order_feature_types, plot_phylo_cv\n",
    "import os\n",
    "from typing import Dict, List\n",
    "import matplotlib.pyplot as plt\n",
    "import matplotlib.ticker as ticker\n",
    "\n",
    "plot_configure_mpl()\n",
    "\n",
    "%load_ext autoreload\n",
    "%autoreload 2"
   ]
  },
  {
   "cell_type": "code",
   "execution_count": 14,
   "metadata": {},
   "outputs": [],
   "source": [
    "# Load in the results of each training run. \n",
    "nonlinear_results = dict() # Results of Nonlinear classifier. \n",
    "logistic_results = dict() # Results of LogisticRegression-based classifier. \n",
    "\n",
    "# Only load results for a minimal list of feature types.\n",
    "for feature_type in ['KO', 'embedding.geneset.oxygen', 'embedding.genome', 'chemical', 'aa_1mer', 'aa_3mer']:\n",
    "    filename = f'train_nonlinear_{feature_type}_ternary.json'\n",
    "    nonlinear_results[feature_type] = load_results_dict(os.path.join(RESULTS_PATH, filename))\n",
    "    filename = f'train_logistic_{feature_type}_ternary.json'\n",
    "    logistic_results[feature_type] = load_results_dict(os.path.join(RESULTS_PATH, filename))"
   ]
  },
  {
   "cell_type": "code",
   "execution_count": 15,
   "metadata": {},
   "outputs": [],
   "source": [
    "phylo_cv_results = dict()\n",
    "for feature_type in ['KO', 'aa_3mer']:\n",
    "    phylo_cv_results[feature_type] = load_results_dict(os.path.join(RESULTS_PATH, f'phylo_cv_nonlinear_{feature_type}_ternary.json'))"
   ]
  },
  {
   "cell_type": "markdown",
   "metadata": {},
   "source": [
    "## Figure 1"
   ]
  },
  {
   "cell_type": "code",
   "execution_count": 16,
   "metadata": {},
   "outputs": [],
   "source": [
    "def plot_figure_1a(grid:GridSpec=None, fig:plt.Figure=None):\n",
    "    '''Just a placeholder, the diagram describing annotation-ful versus annotation-free pipelines for\n",
    "    predicting metabolism will go here.'''\n",
    "    ax = fig.add_subplot(grid)\n",
    "    ax.set_axis_off()\n",
    "    #ax.set_visible(False)"
   ]
  },
  {
   "cell_type": "code",
   "execution_count": 17,
   "metadata": {},
   "outputs": [],
   "source": [
    "def plot_figure_1b(nonlinear_results:Dict, logistic_results:Dict, grid:GridSpec=None, fig:plt.Figure=None):\n",
    "    '''Plot comparing Nonlinear and Logistic ternary classifier performance on the holdout set.'''\n",
    "\n",
    "    ax = fig.add_subplot(grid)\n",
    "    feature_types = plot_order_feature_types(set(nonlinear_results.keys()))\n",
    "\n",
    "    def _format_barplot_axes(ax:plt.Axes):\n",
    "        random_baseline = 0.33 # Expected performance for random classifier on task. \n",
    "        # Label bins with the feature name. \n",
    "        ax.set_xticks(np.arange(0, len(feature_types), 1), [PRETTY_NAMES[f] for f in feature_types], rotation=45, ha='right')\n",
    "\n",
    "        # Set up left y-axis with the balanced accuracy information. \n",
    "        ax.set_ylabel('balanced validation accuracy')\n",
    "        ax.set_ylim(0, 1.02)\n",
    "        ax.set_yticks(np.arange(0, 1.1, 0.2))\n",
    "        ax.yaxis.set_major_formatter(ticker.PercentFormatter(xmax=1)) # xmax is the number to divide by for the percentage.\n",
    "\n",
    "        # Add horizontal line marking model performance with random classification. \n",
    "        ax.axhline(random_baseline, color='grey', linestyle='--', linewidth=2, zorder=-10)\n",
    "\n",
    "    # Extract the final balanced accuracies on from the results dictionaries. \n",
    "    nonlinear_val_accs  = [nonlinear_results[feature_type]['validation_acc'] for feature_type in feature_types]\n",
    "    logistic_val_accs  = [logistic_results[feature_type]['validation_acc'] for feature_type in feature_types]\n",
    "    \n",
    "    # Map annotation-free or -full features to different colors. \n",
    "    colors = ['tab:blue' if f in ANNOTATION_BASED_FEATURE_TYPES else 'tab:green' for f in feature_types] \n",
    "    ax.bar(np.arange(0, len(feature_types), 1) - 0.2, logistic_val_accs, width=0.4, label='logistic', color=colors, edgecolor='k', linewidth=0.5, hatch='///')\n",
    "    ax.bar(np.arange(0, len(feature_types), 1) + 0.2, nonlinear_val_accs, width=0.4, label='nonlinear', color=colors, edgecolor='k', linewidth=0.5)\n",
    "\n",
    "    # Custom legend. Colors indicate annotation-free or annotation-full, and hatching indicates training or validation set. \n",
    "    handles = [plt.Rectangle((0, 0), 1, 1, facecolor='white', edgecolor='k', linewidth=0.5, hatch='////')]\n",
    "    handles.append(plt.Rectangle((0, 0), 1, 1, facecolor='white', edgecolor='k', linewidth=0.5, hatch=''))\n",
    "    labels = ['linear', 'nonlinear']\n",
    "    plt.legend(handles, labels, ncol=2, fontsize=7, columnspacing=0.3, handletextpad=0.3, loc='upper left', bbox_to_anchor=(0.01, 0.99))\n",
    "\n",
    "    _format_barplot_axes(ax)\n"
   ]
  },
  {
   "cell_type": "code",
   "execution_count": 18,
   "metadata": {},
   "outputs": [],
   "source": [
    "def plot_figure_1c(phylo_cv_results:Dict, grid:GridSpec=None, fig:plt.Figure=None):\n",
    "    '''Just a placeholder, the diagram describing annotation-ful versus annotation-free pipelines for\n",
    "    predicting metabolism will go here.'''\n",
    "    ax = fig.add_subplot(grid)\n",
    "    plot_phylo_cv(phylo_cv_results, ax=ax)\n",
    "    #ax.set_visible(False)"
   ]
  },
  {
   "cell_type": "code",
   "execution_count": 19,
   "metadata": {},
   "outputs": [
    {
     "name": "stderr",
     "output_type": "stream",
     "text": [
      "/tmp/ipykernel_542507/335175874.py:12: UserWarning: This figure includes Axes that are not compatible with tight_layout, so results might be incorrect.\n",
      "  plt.tight_layout()\n"
     ]
    },
    {
     "data": {
      "image/png": "[encoded data removed]",
      "text/plain": [
       "<Figure size 1000x200 with 2 Axes>"
      ]
     },
     "metadata": {},
     "output_type": "display_data"
    }
   ],
   "source": [
    "fig = plt.figure(figsize=(10, 2))\n",
    "grid = GridSpec(1, 3, wspace=0.5) \n",
    "\n",
    "plot_figure_1a(grid=grid[0, 0], fig=fig)\n",
    "# mark linear/nonlinear and annotation/annotation-free on the plot.\n",
    "# plot_figure_1b(nonlinear_results, logistic_results, grid=grid[0, 1], fig=fig)\n",
    "plot_figure_1c(phylo_cv_results, grid=grid[0, 2], fig=fig)\n",
    "\n",
    "for panel_label, ax in zip('ABC', fig.get_axes()):\n",
    "    ax.set_title(panel_label, loc='left', fontweight='bold')\n",
    "\n",
    "plt.tight_layout()\n",
    "plt.show()\n",
    "\n",
    "# TODO\n",
    "# Switch panels C and B\n",
    "# Add a coverage line in the background of the phylogenetic CV figure. \n",
    "# In the \"power of phylogeny\" panel, only show the meanrel results with the coverage line. Leave the other stuff in the SI figure. \n"
   ]
  },
  {
   "cell_type": "code",
   "execution_count": 20,
   "metadata": {},
   "outputs": [
    {
     "data": {
      "text/plain": [
       "Phylum     0.519560\n",
       "Class      0.542734\n",
       "Order      0.605291\n",
       "Family     0.662272\n",
       "Genus      0.702518\n",
       "Species    0.770822\n",
       "Name: scores, dtype: float64"
      ]
     },
     "execution_count": 20,
     "metadata": {},
     "output_type": "execute_result"
    }
   ],
   "source": [
    "pd.DataFrame(phylo_cv_results['aa_3mer']).scores.apply(np.mean)"
   ]
  },
  {
   "cell_type": "code",
   "execution_count": null,
   "metadata": {},
   "outputs": [],
   "source": [
    "def plot_si_figure_4a(taxonomy_coverage_df:pd.DataFrame, fig:plt.Figure=None, grid:GridSpec=None):\n",
    "\n",
    "    # Make the easiest plot, which just shows percent coverage by phylogenetic level. \n",
    "    ax = fig.add_subplot(grid)\n",
    "    n = len(taxonomy_coverage_df) # Number of habitats. \n",
    "    \n",
    "    human_habitat_color, color = 'tab:blue', 'tab:gray'\n",
    "    colors = [color if not is_human else human_habitat_color for is_human in taxonomy_coverage_df.habitat.str.contains('human')]\n",
    "    # facecolors = ['none' if not is_human else 'tab:blue' for is_human in human_samples]\n",
    "    sizes = [3 if not is_human else 20 for is_human in taxonomy_coverage_df.habitat.str.contains('human')]\n",
    "\n",
    "    for i, level in enumerate(LEVELS):\n",
    "        ax.scatter(np.array([i] * n), taxonomy_coverage_df[level].values, linewidth=0.5, facecolors=colors, s=sizes)# , edgecolors=edgecolors)\n",
    "\n",
    "    x_vals, y_vals = [], []\n",
    "    for i, level in enumerate(LEVELS): # Make sure these are plotted on top.\n",
    "        x_vals.append(i)\n",
    "        y_vals.append(taxonomy_coverage_df[level].mean())\n",
    "\n",
    "    ax.plot(x_vals, y_vals, c='black', lw=1)\n",
    "    ax.scatter(x_vals, y_vals, c='black', s=20)\n",
    "\n",
    "    # Custom legend. Colors indicate annotation-free or annotation-full, and hatching indicates training or validation set. \n",
    "    handles = [plt.Rectangle((0, 0), 1, 1, facecolor=human_sample_color, edgecolor='black', linewidth=0.5)]\n",
    "    handles.append(plt.Rectangle((0, 0), 1, 1, facecolor=color, edgecolor='black', linewidth=0.5))\n",
    "    handles.append(plt.Rectangle((0, 0), 1, 1, facecolor='black', edgecolor='black', linewidth=0.5))\n",
    "\n",
    "    labels = ['human habitats', 'non-human habitats', 'mean']\n",
    "    ax.legend(handles, labels, fontsize=7, columnspacing=0.3, handletextpad=0.3, loc='lower left')\n",
    "\n",
    "    ax.set_xticks(np.arange(len(LEVELS)), labels=LEVELS)\n",
    "    ax.set_ylabel('percent coverage')\n",
    "    ax.set_xlabel('phylogenetic level')\n",
    "    ax.set_title('Phylogenetic label coverage in the Earth Microbiome Project')"
   ]
  }
 ],
 "metadata": {
  "kernelspec": {
   "display_name": "aerobot",
   "language": "python",
   "name": "python3"
  },
  "language_info": {
   "codemirror_mode": {
    "name": "ipython",
    "version": 3
   },
   "file_extension": ".py",
   "mimetype": "text/x-python",
   "name": "python",
   "nbconvert_exporter": "python",
   "pygments_lexer": "ipython3",
   "version": "3.12.3"
  }
 },
 "nbformat": 4,
 "nbformat_minor": 2
}
