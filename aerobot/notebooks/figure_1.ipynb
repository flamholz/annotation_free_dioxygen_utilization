{
 "cells": [
  {
   "cell_type": "code",
   "execution_count": 10,
   "metadata": {},
   "outputs": [],
   "source": [
    "import numpy as np\n",
    "import pandas as pd\n",
    "import matplotlib as mpl\n",
    "from matplotlib.gridspec import GridSpec\n",
    "from aerobot.io import RESULTS_PATH, load_results_dict\n",
    "import os\n",
    "from typing import Dict, List\n",
    "import matplotlib.pyplot as plt\n",
    "import matplotlib.ticker as ticker\n",
    "\n",
    "# Some specs to make plots look nice. \n",
    "TITLE_FONT_SIZE, LABEL_FONT_SIZE = 12, 8\n",
    "PALETTE = 'Paired'\n",
    "# Set all matplotlib global parameters.\n",
    "plt.rc('font', **{'family':'sans-serif', 'sans-serif':['Arial'], 'size':LABEL_FONT_SIZE})\n",
    "plt.rc('xtick', **{'labelsize':LABEL_FONT_SIZE})\n",
    "plt.rc('ytick', **{'labelsize':LABEL_FONT_SIZE})\n",
    "plt.rc('axes',  **{'titlesize':TITLE_FONT_SIZE, 'labelsize':LABEL_FONT_SIZE})\n",
    "# plt.rcParams['image.cmap'] = 'Paired'\n",
    "# plt.rcParams['axes.prop_cycle'] = plt.cycler(color=plt.cm.Paired.colors)"
   ]
  },
  {
   "cell_type": "code",
   "execution_count": 11,
   "metadata": {},
   "outputs": [],
   "source": [
    "# TODO: Work this in to the io.py module. Also add other feature types. \n",
    "PRETTY_NAMES = {'KO':'All gene families', 'embedding.geneset.oxygen':'Five-gene set', 'chemical':'Chemical features', 'aa_1mer':'Amino acid counts', 'aa_3mer':'Amino acid trimers'}\n",
    "PRETTY_NAMES.update({'embedding.genome':'Genome embedding', 'metadata':'Metadata'})\n",
    "PRETTY_NAMES.update({f'nt_{i}mer':f'Nucleotide {i}-mer' for i in range(1, 6)})\n",
    "PRETTY_NAMES.update({f'cds_{i}mer':f'CDS {i}-mer' for i in range(1, 6)})\n",
    "PRETTY_NAMES.update({f'aa_{i}mer':f'Amino acid {i}-mer' for i in range(2, 3)})"
   ]
  },
  {
   "cell_type": "code",
   "execution_count": 33,
   "metadata": {},
   "outputs": [],
   "source": [
    "# For coloring the annotated and unannotated feature types differently. \n",
    "ANNOTATED = ['KO', 'embedding.geneset.oxygen', 'embedding.genome'] \n",
    "UNANNOTATED = ['chemical', 'aa_1mer', 'aa_3mer']\n",
    "FEATURE_TYPES = UNANNOTATED + ANNOTATED  # A minimal list of feature types. "
   ]
  },
  {
   "cell_type": "markdown",
   "metadata": {},
   "source": [
    "## Loading results"
   ]
  },
  {
   "cell_type": "code",
   "execution_count": 34,
   "metadata": {},
   "outputs": [],
   "source": [
    "phylo_bias_results = load_results_dict(os.path.join(RESULTS_PATH, 'phylo_bias', 'phylo_bias_results_nonlinear_aa_3mer.json'))"
   ]
  },
  {
   "cell_type": "code",
   "execution_count": 35,
   "metadata": {},
   "outputs": [],
   "source": [
    "# Load in the results of each training run. \n",
    "nonlinear_results = dict() # Results of Nonlinear classifier. \n",
    "logistic_results = dict() # Results of LogisticRegression-based classifier. \n",
    "\n",
    "for feature_type in FEATURE_TYPES:\n",
    "    filename = f'run_results_nonlinear_{feature_type}.json'\n",
    "    nonlinear_results[feature_type] = load_results_dict(os.path.join(RESULTS_PATH, 'run', filename))\n",
    "    filename = f'run_results_logistic_{feature_type}.json'\n",
    "    logistic_results[feature_type] = load_results_dict(os.path.join(RESULTS_PATH, 'run', filename))"
   ]
  },
  {
   "cell_type": "markdown",
   "metadata": {},
   "source": [
    "## Figure 1"
   ]
  },
  {
   "cell_type": "code",
   "execution_count": 36,
   "metadata": {},
   "outputs": [],
   "source": [
    "def plot_figure_1a(grid:GridSpec=None, fig:plt.Figure=None):\n",
    "    '''Just a placeholder, the diagram describing annotation-ful versus annotation-free pipelines for\n",
    "    predicting metabolism will go here.'''\n",
    "    ax = fig.add_subplot(grid)\n",
    "    ax.set_axis_off()\n",
    "    #ax.set_visible(False)"
   ]
  },
  {
   "cell_type": "code",
   "execution_count": 40,
   "metadata": {},
   "outputs": [],
   "source": [
    "def plot_figure_1b(nonlinear_results:Dict, logistic_results:Dict, grid:GridSpec=None, fig:plt.Figure=None):\n",
    "    '''Plot comparing Nonlinear and Logistic ternary classifier performance on the holdout set.'''\n",
    "\n",
    "    def _format_barplot_axes(ax:plt.Axes):\n",
    "        random_baseline =  0.33 # Expected performance for random classifier on task. \n",
    "        # Label bins with the feature name. \n",
    "        ax.set_xticks(np.arange(0, len(FEATURE_TYPES), 1), [PRETTY_NAMES[f] for f in FEATURE_TYPES], rotation=45, ha='right')\n",
    "        \n",
    "        # Set up left y-axis with the balanced accuracy information. \n",
    "        ax.set_ylabel('balanced accuracy')\n",
    "        ax.set_ylim(0, 1)\n",
    "        ax.set_yticks(np.arange(0, 1.1, 0.1))\n",
    "        ax.yaxis.set_major_formatter(ticker.PercentFormatter(xmax=1)) # xmax is the number to divide by for the percentage.\n",
    "        # Add a second set of y-ticks on the right to indicate percentage performance increase over random (33% accurate)\n",
    "        #new_ax = ax.twinx()\n",
    "        #new_ax.set_ylim(0, 1)\n",
    "        #yticks = np.round(100 * (np.arange(0, 1.1, 0.1) - random_baseline) / random_baseline, 0)\n",
    "        #ytick_labels = [f'{v:.0f}%' for v in yticks]\n",
    "        #new_ax.set_yticks(yticks, ytick_labels)\n",
    "        #new_ax.set_ylabel('percent above random')\n",
    "\n",
    "        # Add horizontal line marking model performance with random classification. \n",
    "        ax.axhline(random_baseline, color='grey', linestyle='--', linewidth=2, zorder=-10)\n",
    "\n",
    "    ax = fig.add_subplot(grid)\n",
    "\n",
    "    # Extract the final balanced accuracies on from the results dictionaries. \n",
    "    nonlinear_val_accs  = [nonlinear_results[feature_type]['validation_acc'] for feature_type in FEATURE_TYPES]\n",
    "    logistic_val_accs  = [logistic_results[feature_type]['validation_acc'] for feature_type in FEATURE_TYPES]\n",
    "\n",
    "    colors = ['tab:blue'] * len(ANNOTATED) + ['tab:green'] * len(UNANNOTATED)\n",
    "    ax.bar(np.arange(0, len(FEATURE_TYPES), 1) - 0.2, logistic_val_accs, width=0.4, label='logistic', color=colors, edgecolor='k', linewidth=0.5, hatch='///')\n",
    "    ax.bar(np.arange(0, len(FEATURE_TYPES), 1) + 0.2, nonlinear_val_accs, width=0.4, label='nonlinear', color=colors, edgecolor='k', linewidth=0.5)\n",
    "\n",
    "    # Custom legend. Colors indicate annotation-free or annotation-full, and hatching indicates model class. \n",
    "\n",
    "    # # Custom legend. Colors indicate annotation-free or annotation-full, and hatching indicates training or validation set. \n",
    "    # handles = [plt.Rectangle((0, 0), 1, 1, facecolor='white', edgecolor='k', linewidth=0.5, hatch='////')]\n",
    "    # handles.append(plt.Rectangle((0, 0), 1, 1, facecolor='white', edgecolor='k', linewidth=0.5, hatch=''))\n",
    "    # handles.append(plt.Rectangle((0, 0), 1, 1, facecolor='tab:blue', edgecolor='k', linewidth=0.5))\n",
    "    # handles.append(plt.Rectangle((0, 0), 1, 1, facecolor='tab:green', edgecolor='k', linewidth=0.5))\n",
    "    # labels = ['LogisticRegression', 'Nonlinear', 'annotated', 'unannotated']\n",
    "    # plt.legend(handles, labels, ncol=2, fontsize=7, columnspacing=0.3, handletextpad=0.3, loc='upper left', bbox_to_anchor=(0.25, 0.99))\n",
    "    # plt.legend(handles, labels, ncol=2, fontsize=7, columnspacing=0.3, handletextpad=0.3, loc='upper left', bbox_to_anchor=(0.25, 0.99))\n",
    "\n",
    "    _format_barplot_axes(ax)\n"
   ]
  },
  {
   "cell_type": "code",
   "execution_count": 61,
   "metadata": {},
   "outputs": [],
   "source": [
    "def plot_figure_1c(phylo_bias_results:Dict, grid:GridSpec=None, fig:plt.Figure=None, show_points:bool=True):\n",
    "    '''Plots the results of a single run of phlogenetic bias analysis''' \n",
    "    ax = fig.add_subplot(grid)\n",
    "    \n",
    "    feature_type = phylo_bias_results['feature_type'] # Extract the feature type from the results dictionary. \n",
    "    levels = ['Phylum', 'Class', 'Order', 'Family', 'Genus', 'Species'][::-1]\n",
    "\n",
    "    # Load in results for the baselines. \n",
    "    randrel_results = load_results_dict(os.path.join(RESULTS_PATH, 'phylo_bias', 'phylo_bias_results_randrel.json'))\n",
    "    meanrel_results = load_results_dict(os.path.join(RESULTS_PATH, 'phylo_bias', 'phylo_bias_results_meanrel.json'))\n",
    "\n",
    "    colors = ['gray', 'black', 'tab:blue']\n",
    "    linestyles = ['--', '--', '-']\n",
    "    labels = ['MeanRelative', 'RandomRelative', None if phylo_bias_results is None else phylo_bias_results['model_class'].capitalize()]\n",
    "    legend = []\n",
    "\n",
    "    for i, results in enumerate([meanrel_results, randrel_results, phylo_bias_results]):\n",
    "        if results is not None:\n",
    "            # Plot the error bar, as well as scatter points for each level. \n",
    "            means = [results['scores'][level]['mean'] for level in levels] # Extract the mean F1 scores.\n",
    "            errs = [results['scores'][level]['err'] for level in levels] # Extract the standard errors. \n",
    "            level_scores = [results['scores'][level]['scores'] for level in levels] # Extract the raw scores for each level. \n",
    "            # Convert the scores to points for a scatter plot. \n",
    "            scores_x = np.ravel([np.repeat(i + 1, len(s)) for i, s in enumerate(level_scores)])\n",
    "            scores_y = np.ravel(level_scores)\n",
    "\n",
    "            ax.errorbar(np.arange(1, len(levels) + 1), means, yerr=errs, c=colors[i], linestyle=linestyles[i], capsize=3)\n",
    "        \n",
    "            if show_points: # Only show the points if specified.\n",
    "                ax.scatter(scores_x, scores_y, color=colors[i], s=3)\n",
    "            \n",
    "            legend.append(labels[i])\n",
    "\n",
    "    ax.set_ylabel('balanced accuracy')\n",
    "    ax.set_ylim(0, 1)\n",
    "    ax.set_xticks(np.arange(1, len(levels) + 1), labels=levels)\n",
    "    ax.set_xlabel('holdout level')\n",
    "    ax.set_ylim(0.4, 1.02)\n",
    "    #ax.legend(legend)\n"
   ]
  },
  {
   "cell_type": "code",
   "execution_count": 62,
   "metadata": {},
   "outputs": [
    {
     "name": "stderr",
     "output_type": "stream",
     "text": [
      "/var/folders/bm/mmlmzvwn36sbfm6ks9_nddlw0000gn/T/ipykernel_26438/1384884045.py:8: UserWarning: This figure includes Axes that are not compatible with tight_layout, so results might be incorrect.\n",
      "  plt.tight_layout()\n"
     ]
    },
    {
     "data": {
      "image/png": "[encoded data removed]",
      "text/plain": [
       "<Figure size 687.5x200 with 3 Axes>"
      ]
     },
     "metadata": {},
     "output_type": "display_data"
    }
   ],
   "source": [
    "fig = plt.figure(figsize=(6.875, 2))\n",
    "grid = GridSpec(1, 3, wspace=0.5) # width_ratios=[2, 2, 2])\n",
    "\n",
    "plot_figure_1a(grid=grid[0, 0], fig=fig)\n",
    "plot_figure_1b(nonlinear_results, logistic_results, grid=grid[0, 1], fig=fig)\n",
    "plot_figure_1c(phylo_bias_results, grid=grid[0, 2], fig=fig, show_points=False)\n",
    "\n",
    "plt.tight_layout()\n",
    "plt.show()"
   ]
  },
  {
   "cell_type": "code",
   "execution_count": 31,
   "metadata": {},
   "outputs": [
    {
     "data": {
      "text/plain": [
       "KO                          0.789814\n",
       "embedding.geneset.oxygen    0.719947\n",
       "embedding.genome            0.785096\n",
       "chemical                    0.582782\n",
       "aa_1mer                     0.604927\n",
       "aa_3mer                     0.784091\n",
       "Name: validation_acc, dtype: object"
      ]
     },
     "execution_count": 31,
     "metadata": {},
     "output_type": "execute_result"
    }
   ],
   "source": [
    "logistic_df = pd.DataFrame(logistic_results)\n",
    "logistic_df.loc['validation_acc']"
   ]
  },
  {
   "cell_type": "code",
   "execution_count": 32,
   "metadata": {},
   "outputs": [
    {
     "data": {
      "text/plain": [
       "KO                          0.789821\n",
       "embedding.geneset.oxygen    0.785615\n",
       "embedding.genome            0.831122\n",
       "chemical                    0.670286\n",
       "aa_1mer                     0.722969\n",
       "aa_3mer                     0.814438\n",
       "Name: validation_acc, dtype: object"
      ]
     },
     "execution_count": 32,
     "metadata": {},
     "output_type": "execute_result"
    }
   ],
   "source": [
    "nonlinear_df = pd.DataFrame(nonlinear_results)\n",
    "nonlinear_df.loc['validation_acc']"
   ]
  },
  {
   "cell_type": "code",
   "execution_count": 54,
   "metadata": {},
   "outputs": [
    {
     "data": {
      "text/plain": [
       "Phylum     0.552397\n",
       "Class      0.580084\n",
       "Order      0.606110\n",
       "Family     0.643744\n",
       "Genus      0.700038\n",
       "Species    0.751733\n",
       "Name: mean_score, dtype: float64"
      ]
     },
     "execution_count": 54,
     "metadata": {},
     "output_type": "execute_result"
    }
   ],
   "source": [
    "phylo_bias_df = pd.DataFrame(phylo_bias_results)\n",
    "phylo_bias_df['mean_score'] = phylo_bias_df.scores.apply(lambda x: x['mean'])\n",
    "\n",
    "order = ['Phylum', 'Class', 'Order', 'Family', 'Genus', 'Species']\n",
    "phylo_bias_df.loc[order, 'mean_score']\n"
   ]
  },
  {
   "cell_type": "code",
   "execution_count": null,
   "metadata": {},
   "outputs": [],
   "source": []
  }
 ],
 "metadata": {
  "kernelspec": {
   "display_name": "aerobot",
   "language": "python",
   "name": "python3"
  },
  "language_info": {
   "codemirror_mode": {
    "name": "ipython",
    "version": 3
   },
   "file_extension": ".py",
   "mimetype": "text/x-python",
   "name": "python",
   "nbconvert_exporter": "python",
   "pygments_lexer": "ipython3",
   "version": "3.9.6"
  }
 },
 "nbformat": 4,
 "nbformat_minor": 2
}
